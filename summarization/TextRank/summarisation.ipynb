{
 "cells": [
  {
   "cell_type": "markdown",
   "metadata": {
    "collapsed": false,
    "jupyter": {
     "outputs_hidden": false
    },
    "pycharm": {
     "name": "#%% md\n"
    }
   },
   "source": [
    "# TextRank algorithm\n",
    "The \"TextRank\" algorithm is an \"extractive summarization\" algorithm.\n",
    "Extractive summarization - Family of methods that extract the important sentences from the whole text and are joined together to get summarization of the text.\n",
    "\n",
    "This notebook is split as follows:\n",
    "1) **\"PageRank\"** algorithm - The \"TextRank\" algorithm is base of the \"PageRank\" algorithm, so in order to understand \"TextRank\" we first need to understand \"PageRank\".\n",
    "2) **\"TextRank\"** algorithm - Now implement the elements from \"PageRank\" to understand \"TextRank\".\n",
    "3) **Math of \"PageRank\"** algorithm - In order to understand better the \"PageRank\" algorithm, a deeper review of its math.\n",
    "---\n",
    "\n",
    "### 1) \"PageRank\" algorithm:\n",
    "1.1) Intro - Present \"PageRank\" algorithm\n",
    "1.2) Example - small example of how it work\n",
    "1.3) Math - it's math\n",
    "1.4) Remarks\n",
    "\n",
    "##### 1.1) Intro\n",
    "* **Background**: Is an algorithm used by Google Search to rank web pages in their search engine results. It is named after both the term \"web page\" and co-founder Larry Page. It is the first algorithm that was used by the company. It creates a directed graph which the websites are nodes and the edges are the hyperlink.[1]\n",
    "* **Goal**: Retrieve the most important websites.[1]\n",
    "* **General Logic**:\n",
    "    * The \"PageRank\" algorithm outputs a probability distribution used to represent the likelihood that a person randomly clicking on links will arrive at any particular page.\n",
    "    * A vertex that is linked to by many vertices with high PageRank receives a high rank itself.[1]\n",
    "    * The numerical weight that it assigns to any given vertex(website) is referred to as the \"PageRank\".\n",
    "\n",
    "\n",
    "##### 1.2) Example\n",
    "The PageRank computations require several passes, called \"iterations\", through the collection to adjust approximate PageRank values to more closely reflect the theoretical true value.[1]\n",
    "Consider the following graph[1][6]:\n",
    "\n",
    "<center><img src=\"images/graph.png\"></center>\n",
    "\n",
    "\n",
    "The matrix connections($\\tilde{A}$ - The rows are the inward arrows and the columns are the outward arrows) and initial PageRank are:\n",
    "\n",
    "$$\n",
    "\\tilde{A}=\n",
    "\\begin{pmatrix}\n",
    "0 & 1 & 1 & 1\\\\\n",
    "1 & 0 & 0 & 1\\\\\n",
    "0 & 1 & 0 & 0\\\\\n",
    "0 & 0 & 1 & 0\\\\\n",
    "\\end{pmatrix}\n",
    "$$\n",
    "\n",
    "$$\n",
    "\\text{PageRank} =\n",
    "\\begin{pmatrix}\n",
    "A \\\\\n",
    "B \\\\\n",
    "C \\\\\n",
    "D\n",
    "\\end{pmatrix}\n",
    "=\n",
    "\\begin{pmatrix}\n",
    "0.25\\\\\n",
    "0.25 \\\\\n",
    "0.25 \\\\\n",
    "0.25\n",
    "\\end{pmatrix}\n",
    "$$\n",
    "In each iteration each vertex pass it's weight to the vertices that it connected to divided by the number of connections that it has.\n",
    "The following transactions occur:\n",
    "$$\n",
    "\\text{Iteration \\#1} = \\left\\{\n",
    "\\begin{array}{l}\n",
    "\\boldsymbol{A}: \\xrightarrow{\\text{0.25}} B \\\\\n",
    "\\boldsymbol{B}: \\xrightarrow{\\text{0.125}} A; \\xrightarrow{\\text{0.125}} C \\\\\n",
    "\\boldsymbol{C}: \\xrightarrow{\\text{0.125}} A; \\xrightarrow{\\text{0.125}} D \\\\\n",
    "\\boldsymbol{D}: \\xrightarrow{\\text{0.125}} A; \\xrightarrow{\\text{0.125}} B\n",
    "\\end{array}\n",
    "\\right.\n",
    "$$\n",
    "\n",
    "$$\n",
    "\\text{PageRank} =\n",
    "\\begin{pmatrix}\n",
    "A \\\\\n",
    "B \\\\\n",
    "C \\\\\n",
    "D\n",
    "\\end{pmatrix}\n",
    "=\n",
    "\\begin{pmatrix}\n",
    "0.375 \\\\\n",
    "0.375 \\\\\n",
    "0.125 \\\\\n",
    "0.125\n",
    "\\end{pmatrix}\n",
    "$$\n",
    "\n",
    "$$\n",
    "\\text{Iteration \\#2} = \\left\\{\n",
    "\\begin{array}{l}\n",
    "\\boldsymbol{A}: \\xrightarrow{\\text{0.375}} B \\\\\n",
    "\\boldsymbol{B}: \\xrightarrow{\\text{0.1875}} A; \\xrightarrow{\\text{0.1875}} C \\\\\n",
    "\\boldsymbol{C}: \\xrightarrow{\\text{0.0625}} A; \\xrightarrow{\\text{0.0625}} D \\\\\n",
    "\\boldsymbol{D}: \\xrightarrow{\\text{0.0625}} A; \\xrightarrow{\\text{0.0625}} B\n",
    "\\end{array}\n",
    "\\right.\n",
    "$$\n",
    "\n",
    "$$\n",
    "\\text{PageRank} =\n",
    "\\begin{pmatrix}\n",
    "A \\\\\n",
    "B \\\\\n",
    "C \\\\\n",
    "D\n",
    "\\end{pmatrix}\n",
    "=\n",
    "\\begin{pmatrix}\n",
    "0.3125 \\\\\n",
    "0.4375 \\\\\n",
    "0.1875 \\\\\n",
    "0.0625\n",
    "\\end{pmatrix}\n",
    "$$\n",
    "\n",
    "$$\n",
    "\\text{Iteration \\#3} = \\left\\{\n",
    "\\begin{array}{l}\n",
    "\\boldsymbol{A}: \\xrightarrow{\\text{0.3125}} B \\\\\n",
    "\\boldsymbol{B}: \\xrightarrow{\\text{0.21875}} A; \\xrightarrow{\\text{0.21875}} C \\\\\n",
    "\\boldsymbol{C}: \\xrightarrow{\\text{0.09375}} A; \\xrightarrow{\\text{0.09375}} D \\\\\n",
    "\\boldsymbol{D}: \\xrightarrow{\\text{0.03125}} A; \\xrightarrow{\\text{0.03125}} B\n",
    "\\end{array}\n",
    "\\right.\n",
    "$$\n",
    "\n",
    "$$\n",
    "\\text{PageRank} =\n",
    "\\begin{pmatrix}\n",
    "A \\\\\n",
    "B \\\\\n",
    "C \\\\\n",
    "D\n",
    "\\end{pmatrix}\n",
    "=\n",
    "\\begin{pmatrix}\n",
    "0.34375 \\\\\n",
    "0.34375 \\\\\n",
    "0.21875 \\\\\n",
    "0.09375\n",
    "\\end{pmatrix}\n",
    "$$\n",
    "\n",
    "$$\n",
    "\\vdots\n",
    "$$\n",
    "\n",
    "$$\n",
    "\\text{PageRank} =\n",
    "\\begin{pmatrix}\n",
    "A \\\\\n",
    "B \\\\\n",
    "C \\\\\n",
    "D\n",
    "\\end{pmatrix}\n",
    "=\n",
    "\\begin{pmatrix}\n",
    "0.333333 \\\\\n",
    "0.380952 \\\\\n",
    "0.190476 \\\\\n",
    "0.095239\n",
    "\\end{pmatrix}\n",
    "$$\n",
    "\n",
    "The final results is achieved by ```Demo1``` below.\n",
    "\n",
    "##### 1.3) math\n",
    "We need to consider the situation that a random surfer arrives at a sink page(not out edges), if it does, we adjust the algorithem to picks another URL at random and continues surfing again, with $d$ probability, $d$ is called \"damping factor\".\n",
    "Now we get the \"PageRank\" formula[1][10]:\n",
    "#### <center>$$\\boxed{\\mathbf{PageRank(v) = \\frac{1-d}{N} + d \\sum_{u \\in M(v)} \\frac{PageRank(u)}{L(u)}}}$$</center>\n",
    "where\n",
    "* $v$ - specific node.\n",
    "* $M$ - The set of pages that link to node $v$.\n",
    "* $L$ - The number of outbound links on page $u$(outwards edges).\n",
    "* $N$ - The total number of pages(vertices).\n",
    "* $d$ - THe dumping factor, usually set to 0.85\n",
    "\n",
    "If we were running this formula we will get the results\n",
    "$$\n",
    "\\begin{pmatrix}\n",
    "A \\\\\n",
    "B \\\\\n",
    "C \\\\\n",
    "D\n",
    "\\end{pmatrix}\n",
    "=\n",
    "\\left[\n",
    "\\begin{array}{c}\n",
    "0.324561 \\\\\n",
    "0.364034 \\\\\n",
    "0.192214 \\\\\n",
    "0.119191\n",
    "\\end{array}\n",
    "\\right]\n",
    "$$\n",
    "\n",
    " as shown in ```demo2```.\n",
    "\n",
    "##### 1.4) Remarks\n",
    "Couple of remarks:\n",
    "1) Links from a page to itself are ignored.\n",
    "2) All the edges has the same importance(What happen if it does not?).\n",
    "3) in their original paper,[7] reported that the PageRank algorithm for a network consisting of 322 million links (in-edges and out-edges) converges to within a tolerable limit in 52 iterations. they concluded the algorithm can be scaled very well and that the scaling factor(Iterations number) for extremely large networks would be roughly linear in log(n), where n is the size of the network.\n"
   ]
  },
  {
   "cell_type": "code",
   "execution_count": 140,
   "metadata": {
    "collapsed": false,
    "jupyter": {
     "outputs_hidden": false
    },
    "pycharm": {
     "name": "#%%\n"
    }
   },
   "outputs": [
    {
     "data": {
      "text/html": [
       "<div>\n",
       "<style scoped>\n",
       "    .dataframe tbody tr th:only-of-type {\n",
       "        vertical-align: middle;\n",
       "    }\n",
       "\n",
       "    .dataframe tbody tr th {\n",
       "        vertical-align: top;\n",
       "    }\n",
       "\n",
       "    .dataframe thead th {\n",
       "        text-align: right;\n",
       "    }\n",
       "</style>\n",
       "<table border=\"1\" class=\"dataframe\">\n",
       "  <thead>\n",
       "    <tr style=\"text-align: right;\">\n",
       "      <th></th>\n",
       "      <th>RankPage</th>\n",
       "    </tr>\n",
       "  </thead>\n",
       "  <tbody>\n",
       "    <tr>\n",
       "      <th>A</th>\n",
       "      <td>0.333333</td>\n",
       "    </tr>\n",
       "    <tr>\n",
       "      <th>B</th>\n",
       "      <td>0.380952</td>\n",
       "    </tr>\n",
       "    <tr>\n",
       "      <th>C</th>\n",
       "      <td>0.190476</td>\n",
       "    </tr>\n",
       "    <tr>\n",
       "      <th>D</th>\n",
       "      <td>0.095238</td>\n",
       "    </tr>\n",
       "  </tbody>\n",
       "</table>\n",
       "</div>"
      ],
      "text/plain": [
       "   RankPage\n",
       "A  0.333333\n",
       "B  0.380952\n",
       "C  0.190476\n",
       "D  0.095238"
      ]
     },
     "execution_count": 140,
     "metadata": {},
     "output_type": "execute_result"
    }
   ],
   "source": [
    "# Demo1#\n",
    "# Example of the RankText algorithm\n",
    "import os.path\n",
    "\n",
    "import numpy as np\n",
    "import pandas as pd\n",
    "\n",
    "ITERATIONS = 18\n",
    "Inital_RankPage = ([0.25, 0.25, 0.25, 0.25])\n",
    "A_tilda = np.asarray([[0, 1, 1, 1],[1, 0, 0, 1], [0, 1, 0, 0] ,[0, 0, 1, 0]])\n",
    "\n",
    "def denmo1(A_tilda, RankPage, eps=0.000001):\n",
    "    while True:\n",
    "        A_tilda = A_tilda/np.sum(A_tilda, axis=0)\n",
    "        new_RankPage = np.dot(A_tilda, RankPage)\n",
    "        delta  = abs(new_RankPage - RankPage).sum()\n",
    "        if delta <= eps:\n",
    "            df = pd.DataFrame(RankPage, columns=[\"RankPage\"],index=['A', 'B', 'C', 'D'])\n",
    "            return df\n",
    "        RankPage = new_RankPage\n",
    "\n",
    "denmo1(A_tilda, Inital_RankPage)"
   ]
  },
  {
   "cell_type": "code",
   "execution_count": 143,
   "metadata": {
    "collapsed": false,
    "jupyter": {
     "outputs_hidden": false
    },
    "pycharm": {
     "name": "#%%\n"
    }
   },
   "outputs": [
    {
     "data": {
      "text/html": [
       "<div>\n",
       "<style scoped>\n",
       "    .dataframe tbody tr th:only-of-type {\n",
       "        vertical-align: middle;\n",
       "    }\n",
       "\n",
       "    .dataframe tbody tr th {\n",
       "        vertical-align: top;\n",
       "    }\n",
       "\n",
       "    .dataframe thead th {\n",
       "        text-align: right;\n",
       "    }\n",
       "</style>\n",
       "<table border=\"1\" class=\"dataframe\">\n",
       "  <thead>\n",
       "    <tr style=\"text-align: right;\">\n",
       "      <th></th>\n",
       "      <th>RankPage</th>\n",
       "    </tr>\n",
       "  </thead>\n",
       "  <tbody>\n",
       "    <tr>\n",
       "      <th>A</th>\n",
       "      <td>0.324561</td>\n",
       "    </tr>\n",
       "    <tr>\n",
       "      <th>B</th>\n",
       "      <td>0.364034</td>\n",
       "    </tr>\n",
       "    <tr>\n",
       "      <th>C</th>\n",
       "      <td>0.192214</td>\n",
       "    </tr>\n",
       "    <tr>\n",
       "      <th>D</th>\n",
       "      <td>0.119191</td>\n",
       "    </tr>\n",
       "  </tbody>\n",
       "</table>\n",
       "</div>"
      ],
      "text/plain": [
       "   RankPage\n",
       "A  0.324561\n",
       "B  0.364034\n",
       "C  0.192214\n",
       "D  0.119191"
      ]
     },
     "execution_count": 143,
     "metadata": {},
     "output_type": "execute_result"
    }
   ],
   "source": [
    "# Demo1#\n",
    "# Example of the RankText algorithm\n",
    "\n",
    "import numpy as np\n",
    "import pandas as pd\n",
    "\n",
    "DUMPING_FACTOR = 0.85\n",
    "\n",
    "def denmo2(A_tilda, RankPage, dumping_factor, eps=0.000001):\n",
    "    VERTICES_NUMBER = len(RankPage)\n",
    "\n",
    "    while True:\n",
    "        A_tilda = A_tilda/np.sum(A_tilda, axis=0)\n",
    "        new_RankPage = (1- dumping_factor)/VERTICES_NUMBER + dumping_factor * np.dot(A_tilda, RankPage)\n",
    "        delta  = abs(new_RankPage - RankPage).sum()\n",
    "        if delta <= eps:\n",
    "            df = pd.DataFrame(RankPage, columns=[\"RankPage\"],index=['A', 'B', 'C', 'D'])\n",
    "            return df\n",
    "\n",
    "        RankPage = new_RankPage\n",
    "\n",
    "denmo2(A_tilda, Inital_RankPage, DUMPING_FACTOR)"
   ]
  },
  {
   "cell_type": "markdown",
   "metadata": {
    "collapsed": false,
    "jupyter": {
     "outputs_hidden": false
    }
   },
   "source": [
    "### 2) \"TextRank\" algorithm:\n",
    "\n",
    "1.1) Intro.\n",
    "1.2) Algorithm - Show the similarity between this and \"RageRank\".\n",
    "1.3) Examples.\n",
    "\n",
    "##### 1.1) Into\n",
    "With this algorithm we will recognize the most N important sentences in a text corpus. were N is our parameter of choice.\n",
    "Those N most important sentences will be our summarization of our text corpus. The problem of this kind of method(\"Extractive\") is that the sentences are stitched and may not be suitable foe smooth reading.\n",
    "\n",
    "##### 1.2) Algorithm - Show the similarity between this and \"RageRank\"\n",
    "In the same way as is we built graph with \"RageRank\", we are also building a graph.\n",
    "Now the sentences are the vertices and the edge are the similarity between sentences.\n",
    "Similarity between sentences?! - Remember section(2) in remark (1.4), now those values are not strictly 1.\n",
    "How do calculate this similarity values? - There are possible answers are[7][8][9][14]:\n",
    "\n",
    "* Longest common substring(used in the original paper[7]): $similarity(S_i, S_j) = \\frac{|\\{w_k|w_k \\in S_i \\& w_k \\in S_j\\}|}{log(|S_i|)+log(|S_j|)}$\n",
    "* Cosine distance: $S_i \\bullet S_j = ||S_j|| ||S_j|| \\cos \\theta$\n",
    "* BM25/BM25+: ~3% Improvement of the original \"Longest common substring\" distance[8].\n",
    "\n",
    "In order to run the algorithm just change the adjacency matrix($\\tilde{A}$) with the similarity values, and run function ```demo2```.\n",
    "\n",
    "We can look on the process like that:\n",
    "<center><img src=\"images/textrank_flow.png\"></center>\n",
    "\n",
    "##### 1.3) Examples\n",
    "\n",
    "1.3.1) Spacy package example(use package \"pytextrank\", which based on[10]).\n",
    "1.3.2) Gensim package example(This summarizer is based on [10](Rada Mihalcea, 2004), which was later improved upon by [8](Federico Barrios, 2016)).\n",
    "1.3.3) Vectorized sentences(some based on [13]):\n",
    "&nbsp;&nbsp;&nbsp;&nbsp;&nbsp;1.3.3.1) Tf-idf vectorization.\n",
    "&nbsp;&nbsp;&nbsp;&nbsp;&nbsp;1.3.3.2) Glove vectorization.\n",
    "\n",
    "We excpect for the following ratio: $(1.3.1) <= (1.3.2) <= (1.3.3.1) <= (1.3.3.2)$\n",
    "\n",
    "\\* $(1.3.1) <= (1.3.2)$ - because $(1.3.2)$ use better implementatoin than $(1.3.1)$"
   ]
  },
  {
   "cell_type": "markdown",
   "metadata": {
    "collapsed": false,
    "jupyter": {
     "outputs_hidden": false
    },
    "pycharm": {
     "name": "#%% md\n"
    }
   },
   "source": [
    "Conseder the ancient Greek epic poem the \"Odyssey\", what is \"Odyssey\"? Greate question! let's try to get summarization of it!"
   ]
  },
  {
   "cell_type": "code",
   "execution_count": 1,
   "metadata": {
    "collapsed": false,
    "jupyter": {
     "outputs_hidden": false
    },
    "pycharm": {
     "name": "#%%\n"
    }
   },
   "outputs": [],
   "source": [
    "# “Odyssey” out of wikipedia\n",
    "text = r\"The Odyssey is one of two major ancient Greek epic poems attributed to Homer. It is one of the oldest extant works of literature still widely read by modern audiences. As with the Iliad, the poem is divided into 24 books. It follows the Greek hero Odysseus, king of Ithaca, and his journey home after the Trojan War. After the war, which lasted ten years, his journey lasted for ten additional years, during which time he encountered many perils and all his crew mates were killed. In his absence, Odysseus was assumed dead, and his wife Penelope and son Telemachus had to contend with a group of unruly suitors who were competing for Penelope's hand in marriage. The Odyssey was originally composed in Homeric Greek in around the 8th or 7th century BCE and, by the mid-6th century BCE, had become part of the Greek literary canon. In antiquity, Homer's authorship of the poem was not questioned, but contemporary scholarship predominantly assumes that the Iliad and the Odyssey were composed independently and that the stories formed as part of a long oral tradition. Given widespread illiteracy, the poem was performed by an aoidos or rhapsode and was more likely to be heard than read. Crucial themes in the poem include the ideas of nostos (νόστος; \\\"return\\\"), wandering, xenia, testing, and omens. Scholars still reflect on the narrative significance of certain groups in the poem, such as women and slaves, who have a more prominent role in the epic than in many other works of ancient literature. This focus is especially remarkable when contrasted with the Iliad, which centres the exploits of soldiers and kings during the Trojan War.The Odyssey is regarded as one of the most significant works of the Western canon. The first English translation of the Odyssey was in the 16th century. Adaptations and re-imaginings continue to be produced across a wide variety of media. In 2018, when BBC Culture polled experts around the world to find literature's most enduring narrative, the Odyssey topped the list.[2] Exposition (books 1-4) The Odyssey begins after the end of the ten-year Trojan War (the subject of the Iliad), from which Odysseus (also known by the Latin variant Ulysses), king of Ithaca, has still not returned because he angered Poseidon, the god of the sea. Odysseus' son, Telemachus, is about 20 years old and is sharing his absent father's house on the island of Ithaca with his mother Penelope and the suitors of Penelope, a crowd of 108 boisterous young men who each aim to persuade Penelope for her hand in marriage, all the while reveling in the king's palace and eating up his wealth. Odysseus' protectress, the goddess Athena, asks Zeus, king of the gods, to finally allow Odysseus to return home when Poseidon is absent from Mount Olympus. Disguised as a chieftain named Mentes, Athena visits Telemachus to urge him to search for news of his father. He offers her hospitality, and they observe the suitors dining rowdily while Phemius, the bard, performs a narrative poem for them. That night, Athena, disguised as Telemachus, finds a ship and crew for the true prince. The next morning, Telemachus calls an assembly of citizens of Ithaca to discuss what should be done with the insolent suitors, who then scoff at Telemachus. Accompanied by Athena (now disguised as Mentor), the son of Odysseus departs for the Greek mainland to the household of Nestor, most venerable of the Greek warriors at Troy, who resided in Pylos after the war. From there, Telemachus rides to Sparta, accompanied by Nestor's son. There he finds Menelaus and Helen, who are now reconciled. Both Helen and Menelaus also say that they returned to Sparta after a long voyage by way of Egypt. There, on the island of Pharos, Menelaus encounters the old sea-god Proteus, who tells him that Odysseus was a captive of the nymph Calypso. Telemachus learns the fate of Menelaus' brother, Agamemnon, king of Mycenae and leader of the Greeks at Troy: he was murdered on his return home by his wife Clytemnestra and her lover Aegisthus. The story briefly shifts to the suitors, who have only just realized that Telemachus is gone. Angry, they formulate a plan to ambush his ship and kill him as he sails back home. Penelope overhears their plot and worries for her son's safety. Escape to the Phaeacians (books 5-8). In the course of Odysseus' seven years as a captive of Calypso on the island Ogygia, she has fallen deeply in love with him, even though he spurns her offers of immortality as her husband and still mourns for home. She is ordered to release him by the messenger god Hermes, who has been sent by Zeus in response to Athena's plea. Odysseus builds a raft and is given clothing, food, and drink by Calypso. When Poseidon learns that Odysseus has escaped, he wrecks the raft, but helped by a veil given by the sea nymph Ino, Odysseus swims ashore on Scherie, the island of the Phaeacians. Naked and exhausted, he hides in a pile of leaves and falls asleep. The next morning, awakened by girls' laughter, he sees the young Nausicaä, who has gone to the seashore with her maids after Athena told her in a dream to do so. He appeals for help. She encourages him to seek the hospitality of her parents, Arete and Alcinous. Alcinous promises to provide him a ship to return him home without knowing the identity of Odysseus. He remains for several days. Odysseus asks the blind singer Demodocus to tell the story of the Trojan Horse, a stratagem in which Odysseus had played a leading role. Unable to hide his emotion as he relives this episode, Odysseus at last reveals his identity. He then tells the story of his return from Troy. Odysseus' account of his adventures (books 9-12). Odysseus recounts his story to the Phaeacians. After a failed raid, Odysseus and his twelve ships were driven off course by storms. Odysseus visited the lotus-eaters who gave his men their fruit that caused them to forget their homecoming. Odysseus had to drag them back to the ship by force. Afterwards, Odysseus and his men landed on a lush, uninhabited island near the land of the Cyclopes. The men entered the cave of Polyphemus, where they found all the cheeses and meat they desired. Upon returning to his cave, Polyphemus sealed the entrance with a massive boulder and proceeded to eat Odysseus' men. Odysseus devised an escape plan in which he, identifying himself as \\\"Nobody,\\\" plied Polyphemus with wine and blinded him with a wooden stake. When Polyphemus cried out, his neighbors left after Polyphemus claimed that \\\"Nobody\\\" had attacked him. Odysseus and his men finally escaped the cave by hiding on the underbellies of the sheep as they were let out of the cave.As they escaped, however, Odysseus taunted Polyphemus and revealed himself. The Cyclops prayed to his father Poseidon, asking him to curse Odysseus to wander for ten years. After the escape, Aeolus gave Odysseus a leather bag containing all the winds except the west wind, a gift that should have ensured a safe return home. Just as Ithaca came into sight, the sailors opened the bag while Odysseus slept, thinking it contained gold. The winds flew out, and the storm drove the ships back the way they had come. Aeolus, recognizing that Odysseus had drawn the ire of the gods, refused to further assist him.After the cannibalistic Laestrygonians destroyed all of his ships except his own, Odysseus sailed on and reached the island of Aeaea, home of witch-goddess Circe. She turned half of his men into swine with drugged cheese and wine. Hermes warned Odysseus about Circe and gave Odysseus an herb called moly, making him resistant to Circe's magic. Odysseus forced Circe to change his men back to their human form and was seduced by her. They remained with her for one year. Finally, guided by Circe's instructions, Odysseus and his crew crossed the ocean and reached a harbour at the western edge of the world, where Odysseus sacrificed to the dead. Odysseus summoned the spirit of the prophet Tiresias and was told that he may return home if he is able to stay himself and his crew from eating the sacred livestock of Helios on the island of Thrinacia and that failure to do so would result in the loss of his ship and his entire crew.Returning to Aeaea, they buried Elpenor and were advised by Circe on the remaining stages of the journey. They skirted the land of the Sirens. All of the sailors had their ears plugged up with beeswax, except for Odysseus, who was tied to the mast as he wanted to hear the song. He told his sailors not to untie him as it would only make him drown himself. They then passed between the six-headed monster Scylla and the whirlpool Charybdis. Scylla claimed six of his men.Next, they landed on the island of Thrinacia, with the crew overriding Odysseus's wishes to remain away from the island. Zeus caused a storm which prevented them from leaving, causing them to deplete the food given to them by Circe. While Odysseus was away praying, his men ignored the warnings of Tiresias and Circe and hunted the sacred cattle. Helios insisted that Zeus punish the men for this sacrilege. They suffered a shipwreck, and all but Odysseus drowned as he clung to a fig tree. Washed ashore on Ogygia, he remained there as Calypso's lover.Return to Ithaca (books 13-20).Having listened to his story, the Phaeacians agree to provide Odysseus with more treasure than he would have received from the spoils of Troy. They deliver him at night, while he is fast asleep, to a hidden harbour on Ithaca. Odysseus awakens and believes that he has been dropped on a distant land before Athena appears to him and reveals that he is indeed on Ithaca. She hides his treasure in a nearby cave and disguises him as an elderly beggar so he can see how things stand in his household. He finds his way to the hut of one of his own slaves, swineherd Eumaeus, who treats him hospitably and speaks favorably of Odysseus. After dinner, the disguised Odysseus tells the farm laborers a fictitious tale of himself.elemachus sails home from Sparta, evading an ambush set by the suitors. He disembarks on the coast of Ithaca and meets Odysseus. Odysseus identifies himself to Telemachus (but not to Eumaeus), and they decide that the suitors must be killed. Telemachus goes home first. Accompanied by Eumaeus, Odysseus returns to his own house, still pretending to be a beggar. He is ridiculed by the suitors in his own home, especially Antinous. Odysseus meets Penelope and tests her intentions by saying he once met Odysseus in Crete. Closely questioned, he adds that he had recently been in Thesprotia and had learned something there of Odysseus's recent wanderings.Odysseus's identity is discovered by the housekeeper Eurycleia when she recognizes an old scar as she is washing his feet. Eurycleia tries to tell Penelope about the beggar's true identity, but Athena makes sure that Penelope cannot hear her. Odysseus swears Eurycleia to secrecy.Slaying of the Suitors (books 21-24).The next day, at Athena's prompting, Penelope maneuvers the suitors into competing for her hand with an archery competition using Odysseus' bow. The man who can string the bow and shoot an arrow through a dozen axe heads would win. Odysseus takes part in the competition, and he alone is strong enough to string the bow and shoot the arrow through the dozen axe heads, making him the winner. He then throws off his rags and kills Antinous with his next arrow. Odysseus kills the other suitors, first using the rest of the arrows and then by swords and spears. Once the battle is won, Telemachus also hangs twelve of their household maids whom Eurycleia identifies as guilty of betraying Penelope or having sex with the suitors. Odysseus identifies himself to Penelope. She is hesitant but recognizes him when he mentions that he made their bed from an olive tree still rooted to the ground.\""
   ]
  },
  {
   "cell_type": "markdown",
   "metadata": {
    "collapsed": false,
    "jupyter": {
     "outputs_hidden": false
    },
    "pycharm": {
     "name": "#%% md\n"
    }
   },
   "source": [
    "#### 1.3.1)Spacy"
   ]
  },
  {
   "cell_type": "code",
   "execution_count": 118,
   "metadata": {
    "collapsed": false,
    "jupyter": {
     "outputs_hidden": false
    },
    "pycharm": {
     "name": "#%%\n"
    }
   },
   "outputs": [
    {
     "name": "stdout",
     "output_type": "stream",
     "text": [
      "=======================\n",
      "preserve_order = False:\n",
      "=======================\n",
      "In his absence, Odysseus was assumed dead, and his wife Penelope and son Telemachus had to contend with a group of unruly suitors who were competing for Penelope's hand in marriage.\n",
      "The Odyssey begins after the end of the ten-year Trojan War (the subject of the Iliad), from which Odysseus (also known by the Latin variant Ulysses), king of Ithaca, has still not returned because he angered Poseidon, the god of the sea.\n",
      "Slaying of the Suitors (books 21-24).The next day, at Athena's prompting, Penelope maneuvers the suitors into competing for her hand with an archery competition using Odysseus' bow.\n",
      "Accompanied by Athena (now disguised as Mentor), the son of Odysseus departs for the Greek mainland to the household of Nestor, most venerable of the Greek warriors at Troy, who resided in Pylos after the war.\n",
      "Odysseus' protectress, the goddess Athena, asks Zeus, king of the gods, to finally allow Odysseus to return home when Poseidon is absent from Mount Olympus.\n",
      "In the course of Odysseus' seven years as a captive of Calypso on the island Ogygia, she has fallen deeply in love with him, even though he spurns her offers of immortality as her husband and still mourns for home.\n",
      "It follows the Greek hero Odysseus, king of Ithaca, and his journey home after the Trojan War.\n",
      "Odysseus' son, Telemachus, is about 20 years old and is sharing his absent father's house on the island of Ithaca with his mother Penelope and the suitors of Penelope, a crowd of 108 boisterous young men who each aim to persuade Penelope for her hand in marriage, all the while reveling in the king's palace and eating up his wealth.\n",
      "Return to Ithaca (books 13-20).Having listened to his story, the Phaeacians agree to provide Odysseus with more treasure than he would have received from the spoils of Troy.\n",
      "After dinner, the disguised Odysseus tells the farm laborers a fictitious tale of himself.elemachus sails home from Sparta, evading an ambush set by the suitors.\n",
      "\n",
      "---------------------------------------------------------------------------------------------------------------------------------------------------------------------------\n",
      "\n",
      "======================\n",
      "preserve_order = True:\n",
      "======================\n",
      "It follows the Greek hero Odysseus, king of Ithaca, and his journey home after the Trojan War.\n",
      "In his absence, Odysseus was assumed dead, and his wife Penelope and son Telemachus had to contend with a group of unruly suitors who were competing for Penelope's hand in marriage.\n",
      "The Odyssey begins after the end of the ten-year Trojan War (the subject of the Iliad), from which Odysseus (also known by the Latin variant Ulysses), king of Ithaca, has still not returned because he angered Poseidon, the god of the sea.\n",
      "Odysseus' son, Telemachus, is about 20 years old and is sharing his absent father's house on the island of Ithaca with his mother Penelope and the suitors of Penelope, a crowd of 108 boisterous young men who each aim to persuade Penelope for her hand in marriage, all the while reveling in the king's palace and eating up his wealth.\n",
      "Odysseus' protectress, the goddess Athena, asks Zeus, king of the gods, to finally allow Odysseus to return home when Poseidon is absent from Mount Olympus.\n",
      "Accompanied by Athena (now disguised as Mentor), the son of Odysseus departs for the Greek mainland to the household of Nestor, most venerable of the Greek warriors at Troy, who resided in Pylos after the war.\n",
      "In the course of Odysseus' seven years as a captive of Calypso on the island Ogygia, she has fallen deeply in love with him, even though he spurns her offers of immortality as her husband and still mourns for home.\n",
      "Return to Ithaca (books 13-20).Having listened to his story, the Phaeacians agree to provide Odysseus with more treasure than he would have received from the spoils of Troy.\n",
      "After dinner, the disguised Odysseus tells the farm laborers a fictitious tale of himself.elemachus sails home from Sparta, evading an ambush set by the suitors.\n",
      "Slaying of the Suitors (books 21-24).The next day, at Athena's prompting, Penelope maneuvers the suitors into competing for her hand with an archery competition using Odysseus' bow.\n"
     ]
    }
   ],
   "source": [
    "import spacy\n",
    "import pytextrank\n",
    "\n",
    "nlp = spacy.load(\"en_core_web_sm\")\n",
    "nlp.add_pipe(\"textrank\") # config={ \"stopwords\": { \"house\": [\"NOUN\"] } }) it is possible to remove wwords with \"lemma\": \"POS\". please check for more options[11]\n",
    "doc = nlp(text)\n",
    "tr = doc._.textrank\n",
    "\n",
    "print('=======================')\n",
    "print('preserve_order = False:')\n",
    "print('=======================')\n",
    "# calculate a euclidean distance for each sentence; in other words, test for inclusion of each *phrase* mention in the unit vector\n",
    "for sent in tr.summary(limit_phrases=500, limit_sentences=10, preserve_order=False):\n",
    "    print(sent)\n",
    "print('\\n---------------------------------------------------------------------------------------------------------------------------------------------------------------------------\\n')\n",
    "print('======================')\n",
    "print('preserve_order = True:')\n",
    "print('======================')\n",
    "# calculate a euclidean distance for each sentence; in other words, test for inclusion of each *phrase* mention in the unit vector\n",
    "for sent in tr.summary(limit_phrases=500, limit_sentences=10, preserve_order=True):\n",
    "    print(sent)"
   ]
  },
  {
   "cell_type": "markdown",
   "metadata": {
    "collapsed": false,
    "jupyter": {
     "outputs_hidden": false
    },
    "pycharm": {
     "name": "#%% md\n"
    }
   },
   "source": [
    "Notice that \"preserve_order = True\" gives much clreare summarization when we know that the story text has chronological order"
   ]
  },
  {
   "cell_type": "markdown",
   "metadata": {
    "collapsed": false,
    "jupyter": {
     "outputs_hidden": false
    },
    "pycharm": {
     "name": "#%% md\n"
    }
   },
   "source": [
    "#### 1.3.2)Gensim"
   ]
  },
  {
   "cell_type": "code",
   "execution_count": 1,
   "metadata": {
    "collapsed": false,
    "jupyter": {
     "outputs_hidden": false
    },
    "pycharm": {
     "name": "#%%\n"
    }
   },
   "outputs": [
    {
     "ename": "ModuleNotFoundError",
     "evalue": "No module named 'gensim.summarization'",
     "output_type": "error",
     "traceback": [
      "\u001b[1;31m---------------------------------------------------------------------------\u001b[0m",
      "\u001b[1;31mModuleNotFoundError\u001b[0m                       Traceback (most recent call last)",
      "\u001b[1;32m<ipython-input-1-f415ffe3353c>\u001b[0m in \u001b[0;36m<module>\u001b[1;34m\u001b[0m\n\u001b[0;32m      1\u001b[0m \u001b[1;31m#gensim==3.8.3\u001b[0m\u001b[1;33m\u001b[0m\u001b[1;33m\u001b[0m\u001b[0m\n\u001b[1;32m----> 2\u001b[1;33m \u001b[1;32mfrom\u001b[0m \u001b[0mgensim\u001b[0m\u001b[1;33m.\u001b[0m\u001b[0msummarization\u001b[0m \u001b[1;32mimport\u001b[0m \u001b[0msummarize\u001b[0m\u001b[1;33m\u001b[0m\u001b[0m\n\u001b[0m\u001b[0;32m      3\u001b[0m \u001b[0mprint\u001b[0m\u001b[1;33m(\u001b[0m\u001b[1;34m'\\n'\u001b[0m\u001b[1;33m.\u001b[0m\u001b[0mjoin\u001b[0m\u001b[1;33m(\u001b[0m\u001b[0msummarize\u001b[0m\u001b[1;33m(\u001b[0m\u001b[0mtext\u001b[0m\u001b[1;33m,\u001b[0m \u001b[0mratio\u001b[0m\u001b[1;33m=\u001b[0m\u001b[1;36m0.1\u001b[0m\u001b[1;33m,\u001b[0m \u001b[0msplit\u001b[0m\u001b[1;33m=\u001b[0m\u001b[1;32mTrue\u001b[0m\u001b[1;33m)\u001b[0m\u001b[1;33m)\u001b[0m\u001b[1;33m)\u001b[0m\u001b[1;33m\u001b[0m\u001b[0m\n",
      "\u001b[1;31mModuleNotFoundError\u001b[0m: No module named 'gensim.summarization'"
     ]
    }
   ],
   "source": [
    "#gensim==3.8.3\n",
    "from gensim.summarization import summarize\n",
    "print('\\n'.join(summarize(text, ratio=0.1, split=True)))"
   ]
  },
  {
   "cell_type": "markdown",
   "metadata": {
    "collapsed": false,
    "jupyter": {
     "outputs_hidden": false
    }
   },
   "source": [
    "Although it is close, \"Gensim\" gives better results and indeed: $(1.3.1) <= (1.3.2)$"
   ]
  },
  {
   "cell_type": "markdown",
   "metadata": {
    "collapsed": false,
    "jupyter": {
     "outputs_hidden": false
    },
    "pycharm": {
     "name": "#%% md\n"
    }
   },
   "source": [
    "### 1.3.3) Vectorized sentences:\n",
    "#### 1.3.3.1)Tf-idf vectorization"
   ]
  },
  {
   "cell_type": "code",
   "execution_count": 57,
   "metadata": {
    "collapsed": false,
    "jupyter": {
     "outputs_hidden": false
    },
    "pycharm": {
     "name": "#%%\n"
    }
   },
   "outputs": [],
   "source": [
    "import os\n",
    "import numpy as np\n",
    "import networkx as nx\n",
    "from nltk.corpus import stopwords\n",
    "from sklearn.pipeline import Pipeline\n",
    "from sklearn.metrics.pairwise import cosine_similarity\n",
    "from sklearn.feature_extraction.text import CountVectorizer, TfidfTransformer"
   ]
  },
  {
   "cell_type": "code",
   "execution_count": 108,
   "metadata": {
    "collapsed": false,
    "jupyter": {
     "outputs_hidden": false
    },
    "pycharm": {
     "name": "#%%\n"
    }
   },
   "outputs": [],
   "source": [
    "# function to remove stopwords\n",
    "def remove_stopwords(sen, stop_words):\n",
    "    sen_new = \" \".join([i for i in sen if i not in stop_words])\n",
    "    return sen_new\n",
    "\n",
    "# Pre-processing\n",
    "def corpus_to_sentences(text):\n",
    "    sentences = text.split('.')\n",
    "    text_lower = text.lower()\n",
    "    removed_text = text_lower.replace(\"[^a-zA-Z]\", \" \")\n",
    "    stop_words = stopwords.words('english')\n",
    "    r_sentences = removed_text.split('.')\n",
    "    r_sentences_no_stopwords = [remove_stopwords(r.split(), stop_words) for r in r_sentences]\n",
    "    return sentences, r_sentences_no_stopwords\n",
    "\n",
    "\n",
    "def create_similarity_matrix(sentence_vectors):\n",
    "    sim_mat = np.zeros([len(sentence_vectors), len(sentence_vectors)])\n",
    "    for i in range(len(sentence_vectors)):\n",
    "      for j in range(len(sentence_vectors)):\n",
    "        if i != j:\n",
    "          # sim_mat[i][j] = cosine_similarity(sentence_vectors[i].reshape(1,100), sentence_vectors[j].reshape(1,100))[0,0]\n",
    "          sim_mat[i][j] = cosine_similarity(sentence_vectors[i][np.newaxis, :], sentence_vectors[j][np.newaxis, :])[0,0]\n",
    "\n",
    "    return sim_mat\n",
    "\n",
    "def similarity_to_scores(sim_mat):\n",
    "    #convert the similarity matrix sim_mat into a graph\n",
    "    nx_graph = nx.from_numpy_array(sim_mat)\n",
    "    scores = nx.pagerank(nx_graph)\n",
    "    return scores"
   ]
  },
  {
   "cell_type": "code",
   "execution_count": 109,
   "metadata": {
    "collapsed": false,
    "jupyter": {
     "outputs_hidden": false
    },
    "pycharm": {
     "name": "#%%\n"
    }
   },
   "outputs": [],
   "source": [
    "# Some cleaning\n",
    "sentences, clean_sentences = corpus_to_sentences(text)"
   ]
  },
  {
   "cell_type": "code",
   "execution_count": 110,
   "metadata": {
    "collapsed": false,
    "jupyter": {
     "outputs_hidden": false
    },
    "pycharm": {
     "name": "#%%\n"
    }
   },
   "outputs": [],
   "source": [
    "# add embeddings\n",
    "pipeline = Pipeline(steps=[(\"bow\", CountVectorizer()),\n",
    "                           (\"tfidf\", TfidfTransformer())])\n",
    "sentence_vectors_tfidf = list(pipeline.fit_transform(clean_sentences).toarray())\n",
    "sim_mat_tfidf = create_similarity_matrix(sentence_vectors_tfidf)\n",
    "scores_tfidf = similarity_to_scores(sim_mat_tfidf)"
   ]
  },
  {
   "cell_type": "code",
   "execution_count": 119,
   "metadata": {
    "collapsed": false,
    "jupyter": {
     "outputs_hidden": false
    },
    "pycharm": {
     "name": "#%%\n"
    }
   },
   "outputs": [
    {
     "name": "stdout",
     "output_type": "stream",
     "text": [
      " Odysseus' son, Telemachus, is about 20 years old and is sharing his absent father's house on the island of Ithaca with his mother Penelope and the suitors of Penelope, a crowd of 108 boisterous young men who each aim to persuade Penelope for her hand in marriage, all the while reveling in the king's palace and eating up his wealth\n",
      " Odysseus identifies himself to Penelope\n",
      " Odysseus' protectress, the goddess Athena, asks Zeus, king of the gods, to finally allow Odysseus to return home when Poseidon is absent from Mount Olympus\n",
      " It follows the Greek hero Odysseus, king of Ithaca, and his journey home after the Trojan War\n",
      "[2] Exposition (books 1-4) The Odyssey begins after the end of the ten-year Trojan War (the subject of the Iliad), from which Odysseus (also known by the Latin variant Ulysses), king of Ithaca, has still not returned because he angered Poseidon, the god of the sea\n",
      " In his absence, Odysseus was assumed dead, and his wife Penelope and son Telemachus had to contend with a group of unruly suitors who were competing for Penelope's hand in marriage\n",
      "The next day, at Athena's prompting, Penelope maneuvers the suitors into competing for her hand with an archery competition using Odysseus' bow\n",
      " Alcinous promises to provide him a ship to return him home without knowing the identity of Odysseus\n",
      " When Poseidon learns that Odysseus has escaped, he wrecks the raft, but helped by a veil given by the sea nymph Ino, Odysseus swims ashore on Scherie, the island of the Phaeacians\n",
      " Odysseus identifies himself to Telemachus (but not to Eumaeus), and they decide that the suitors must be killed\n"
     ]
    }
   ],
   "source": [
    "# Extract the top N sentences\n",
    "ranked_sentences = sorted(((scores_tfidf[i],s) for i,s in enumerate(sentences)), reverse=True)\n",
    "# Extract top 5 sentences as the summary\n",
    "for i in range(10):\n",
    "  print(ranked_sentences[i][1])"
   ]
  },
  {
   "cell_type": "markdown",
   "metadata": {
    "collapsed": false,
    "jupyter": {
     "outputs_hidden": false
    }
   },
   "source": []
  },
  {
   "cell_type": "markdown",
   "metadata": {
    "collapsed": false,
    "jupyter": {
     "outputs_hidden": false
    }
   },
   "source": [
    "#### 1.3.3.2) Glove vectorization"
   ]
  },
  {
   "cell_type": "code",
   "execution_count": 112,
   "metadata": {
    "collapsed": false,
    "jupyter": {
     "outputs_hidden": false
    },
    "pycharm": {
     "name": "#%%\n"
    }
   },
   "outputs": [],
   "source": [
    "GLOVE_DIR = r'C:\\Users\\or\\PycharmProjects\\annotator_api\\notebooks\\try\\summarisation\\Glove\\glove.6B'"
   ]
  },
  {
   "cell_type": "code",
   "execution_count": 113,
   "metadata": {
    "collapsed": false,
    "jupyter": {
     "outputs_hidden": false
    },
    "pycharm": {
     "name": "#%%\n"
    }
   },
   "outputs": [],
   "source": [
    "def get_GLOVE_word_embeddings(embedding_path):\n",
    "    word_embeddings = {}\n",
    "    f = open(os.path.join(GLOVE_DIR, 'glove.6B.100d.txt'), encoding='utf-8')\n",
    "    for line in f:\n",
    "        values = line.split()\n",
    "        word = values[0]\n",
    "        coefs = np.asarray(values[1:], dtype='float32')\n",
    "        word_embeddings[word] = coefs\n",
    "    f.close()\n",
    "    return word_embeddings\n",
    "\n",
    "def sentences_to_vectors(word_embeddings, clean_sentences):\n",
    "    sentence_vectors = []\n",
    "    for i in clean_sentences:\n",
    "      if len(i) != 0:\n",
    "        v = sum([word_embeddings.get(w, np.zeros((100,))) for w in i.split()])/(len(i.split())+0.001)\n",
    "      else:\n",
    "        v = np.zeros((100,))\n",
    "      sentence_vectors.append(v)\n",
    "    return sentence_vectors"
   ]
  },
  {
   "cell_type": "code",
   "execution_count": 115,
   "metadata": {
    "collapsed": false,
    "jupyter": {
     "outputs_hidden": false
    },
    "pycharm": {
     "name": "#%%\n"
    }
   },
   "outputs": [],
   "source": [
    "word_embeddings_GLOVE = get_GLOVE_word_embeddings(GLOVE_DIR)\n",
    "sentence_vectors_GLOVE = sentences_to_vectors(word_embeddings_GLOVE, clean_sentences)\n",
    "sim_mat_GLOVE = create_similarity_matrix(sentence_vectors_GLOVE)\n",
    "scores_GLOVE = similarity_to_scores(sim_mat_GLOVE)"
   ]
  },
  {
   "cell_type": "code",
   "execution_count": 124,
   "metadata": {
    "collapsed": false,
    "jupyter": {
     "outputs_hidden": false
    },
    "pycharm": {
     "name": "#%%\n"
    }
   },
   "outputs": [
    {
     "name": "stdout",
     "output_type": "stream",
     "text": [
      " In the course of Odysseus' seven years as a captive of Calypso on the island Ogygia, she has fallen deeply in love with him, even though he spurns her offers of immortality as her husband and still mourns for home\n",
      " Odysseus summoned the spirit of the prophet Tiresias and was told that he may return home if he is able to stay himself and his crew from eating the sacred livestock of Helios on the island of Thrinacia and that failure to do so would result in the loss of his ship and his entire crew\n",
      " Odysseus forced Circe to change his men back to their human form and was seduced by her\n",
      " Odysseus' son, Telemachus, is about 20 years old and is sharing his absent father's house on the island of Ithaca with his mother Penelope and the suitors of Penelope, a crowd of 108 boisterous young men who each aim to persuade Penelope for her hand in marriage, all the while reveling in the king's palace and eating up his wealth\n",
      " Alcinous promises to provide him a ship to return him home without knowing the identity of Odysseus\n",
      "[2] Exposition (books 1-4) The Odyssey begins after the end of the ten-year Trojan War (the subject of the Iliad), from which Odysseus (also known by the Latin variant Ulysses), king of Ithaca, has still not returned because he angered Poseidon, the god of the sea\n",
      " Odysseus visited the lotus-eaters who gave his men their fruit that caused them to forget their homecoming\n",
      " Both Helen and Menelaus also say that they returned to Sparta after a long voyage by way of Egypt\n",
      " Odysseus awakens and believes that he has been dropped on a distant land before Athena appears to him and reveals that he is indeed on Ithaca\n",
      " That night, Athena, disguised as Telemachus, finds a ship and crew for the true prince\n"
     ]
    }
   ],
   "source": [
    "# Extract the top N sentences\n",
    "ranked_sentences = sorted(((scores_GLOVE[i],s) for i,s in enumerate(sentences)), reverse=True)\n",
    "# Extract top 5 sentences as the summary\n",
    "for i in range(10):\n",
    "  print(ranked_sentences[i][1])"
   ]
  },
  {
   "cell_type": "markdown",
   "metadata": {
    "collapsed": false,
    "jupyter": {
     "outputs_hidden": false
    },
    "pycharm": {
     "name": "#%% md\n"
    }
   },
   "source": [
    "## Conclusion:\n",
    "1. First, we learnt what is Greek poem the “Odyssey”! Out of 110 ssentences, we generate a 10 sentences(=11%) summarization.\n",
    "2. it seems that although we hypothesis  $(1.3.1) <= (1.3.2) <= (1.3.3.1) <= (1.3.3.2)$ we got:  $(1.3.3.2) <= (1.3.3.1) <= (1.3.1) <= (1.3.2)$.\n",
    "   A spossible explanation for that is the characteristics of the text we have chosen. The text itself is sort of summary, which the first sentences bear more information than the lasts.\n",
    "   It is possible that if we take a different corpus, which rhe main ideas scatter across it, we may get the hypothesis. You may check it yourself and update me :)\n",
    "3. We get understand the \"PageRank\" and \"TextRank\" algorithms and experiment with different python implementations."
   ]
  },
  {
   "cell_type": "markdown",
   "metadata": {
    "collapsed": false,
    "jupyter": {
     "outputs_hidden": false
    }
   },
   "source": [
    "##### Appendix:\n",
    "* The \"PageRank\" algorithm is based on the normalized eigenvector centrality combined with a random jump assumption.[2][3]\n",
    "* eigenvector centrality - In graph theory, it is a measure of the influence of a node in a network (The score has similar interpretations as those of \"PageRank\" -  scores are assigned to all nodes in the network based on the concept that connections to high-scoring nodes contribute more to the score of the node in question than equal connections to low-scoring nodes.). Since the theory wants the solution(eigenvector) that corresponds to the highest eigenvalue, by the \"Perron–Frobenius theorem\"[4], we can find a solution like that[3][4] that has non-negative values.\n",
    "\n",
    "\n",
    "<font size=\"3\">The math: $$x_v=\\dfrac{1}{\\lambda}\\sum^{}_{t\\in V}a_{v,t}x_t\\rightarrow \\tilde{A}x=\\lambda x$$ </font>\n",
    "\n",
    "\n",
    "<font size=\"3\"> Where </font>\n",
    "\n",
    "<font size=\"3\">$V$ - vertices </font>\n",
    "<font size=\"3\"> $\\tilde{A}(\\equiv a_{v,t})$ - Matrix that represents edges between nodes(=The same matrix as mentioned in the first part!) </font>\n",
    "<font size=\"3\"> $x$ - The scores of each node(solution) </font>\n",
    "<font size=\"3\"> $\\lambda$ - Constant </font>\n",
    "\n",
    "\n",
    "* Power iteration is one of many eigenvalue algorithms that may be used to find this dominant eigenvector.[3][5] This is presented as it algorithem is very similar the \"PageRank\" algorithm which also done in iterative way.\n",
    "* Why we want the dominant eigenvector - because it is a solution to the above equation(Gives \"PageRank\" to each node).\n",
    "\n",
    "\n",
    "\n",
    "<font size=\"3\"> The math: $$b_{k+1}= \\dfrac{Ab_kx}{\\left\\|{Ab_k}\\right\\|}$$ </font>\n",
    "<font size=\"3\"> Where </font>\n",
    "\n",
    "<font size=\"3\"> $A$ - Matrix that represents edges between nodes </font>\n",
    "<font size=\"3\"> $x_b$ - The scores of each node(solution) is step k </font>"
   ]
  },
  {
   "cell_type": "markdown",
   "metadata": {
    "collapsed": false,
    "jupyter": {
     "outputs_hidden": false
    },
    "pycharm": {
     "name": "#%% md\n"
    }
   },
   "source": [
    "Resources:\n",
    "\n",
    "[1] ```https://en.wikipedia.org/w/index.php?title=PageRank```\n",
    "\n",
    "[2] ```https://en.wikipedia.org/wiki/Eigenvector_centrality```\n",
    "\n",
    "[3] ```https://derwen.ai/docs/ptr/glossary/#eigenvector-centrality```\n",
    "\n",
    "[4] ```https://en.wikipedia.org/wiki/Perron%E2%80%93Frobenius_theorem```\n",
    "\n",
    "[5] ```https://en.wikipedia.org/wiki/Power_iteration```\n",
    "\n",
    "[6] ```https://www.youtube.com/watch?v=qtLk2x59Va8```\n",
    "\n",
    "[7] ```https://web.archive.org/web/20110818093436/http://ilpubs.stanford.edu:8090/422/1/1999-66.pdf```\n",
    "\n",
    "[8] ```https://arxiv.org/pdf/1602.03606.pdf```\n",
    "\n",
    "[9] ```https://en.wikipedia.org/wiki/Cosine_similarity```\n",
    "\n",
    "[10] ```https://web.eecs.umich.edu/~mihalcea/papers/mihalcea.emnlp04.pdf```\n",
    "\n",
    "[11] ```https://derwen.ai/docs/ptr/sample/```\n",
    "\n",
    "[12] ```https://en.wikipedia.org/wiki/Odyssey```\n",
    "\n",
    "[13] ```https://www.analyticsvidhya.com/blog/2018/11/introduction-text-summarization-textrank-python/```\n",
    "\n",
    "[14] ```https://web.eecs.umich.edu/~mihalcea/papers/mihalcea.emnlp04.pdf```"
   ]
  }
 ],
 "metadata": {
  "kernelspec": {
   "display_name": "Python 3 (ipykernel)",
   "language": "python",
   "name": "python3"
  },
  "language_info": {
   "codemirror_mode": {
    "name": "ipython",
    "version": 3
   },
   "file_extension": ".py",
   "mimetype": "text/x-python",
   "name": "python",
   "nbconvert_exporter": "python",
   "pygments_lexer": "ipython3",
   "version": "3.12.3"
  }
 },
 "nbformat": 4,
 "nbformat_minor": 4
}
